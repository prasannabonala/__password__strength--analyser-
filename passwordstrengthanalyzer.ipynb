{
  "nbformat": 4,
  "nbformat_minor": 0,
  "metadata": {
    "colab": {
      "provenance": []
    },
    "kernelspec": {
      "name": "python3",
      "display_name": "Python 3"
    },
    "language_info": {
      "name": "python"
    }
  },
  "cells": [
    {
      "cell_type": "code",
      "execution_count": null,
      "metadata": {
        "colab": {
          "base_uri": "https://localhost:8080/"
        },
        "id": "WwtDetl-Hn8I",
        "outputId": "7386c8cd-a502-4ec9-a5db-6169551b4726"
      },
      "outputs": [
        {
          "output_type": "stream",
          "name": "stdout",
          "text": [
            "Collecting zxcvbn\n",
            "  Downloading zxcvbn-4.5.0-py2.py3-none-any.whl.metadata (5.9 kB)\n",
            "Collecting bcrypt\n",
            "  Downloading bcrypt-4.3.0-cp39-abi3-manylinux_2_34_x86_64.whl.metadata (10 kB)\n",
            "Downloading zxcvbn-4.5.0-py2.py3-none-any.whl (409 kB)\n",
            "\u001b[2K   \u001b[90m━━━━━━━━━━━━━━━━━━━━━━━━━━━━━━━━━━━━━━━━\u001b[0m \u001b[32m409.4/409.4 kB\u001b[0m \u001b[31m7.5 MB/s\u001b[0m eta \u001b[36m0:00:00\u001b[0m\n",
            "\u001b[?25hDownloading bcrypt-4.3.0-cp39-abi3-manylinux_2_34_x86_64.whl (284 kB)\n",
            "\u001b[2K   \u001b[90m━━━━━━━━━━━━━━━━━━━━━━━━━━━━━━━━━━━━━━━━\u001b[0m \u001b[32m284.2/284.2 kB\u001b[0m \u001b[31m13.7 MB/s\u001b[0m eta \u001b[36m0:00:00\u001b[0m\n",
            "\u001b[?25hInstalling collected packages: zxcvbn, bcrypt\n",
            "Successfully installed bcrypt-4.3.0 zxcvbn-4.5.0\n"
          ]
        }
      ],
      "source": [
        "!pip install zxcvbn bcrypt\n"
      ]
    },
    {
      "cell_type": "code",
      "source": [
        "from zxcvbn import zxcvbn\n",
        "import bcrypt\n",
        "\n",
        "def analyze_password_strength(password: str):\n",
        "    analysis = zxcvbn(password)\n",
        "    score = analysis['score']\n",
        "    guesses = analysis['guesses']\n",
        "    crack_times = analysis['crack_times_display']\n",
        "    feedback = analysis['feedback']\n",
        "\n",
        "    print(\"\\n🔍 Password Analysis Report:\")\n",
        "    print(f\"Strength Score (0-4): {score}\")\n",
        "    print(f\"Estimated Guesses Needed: {guesses}\")\n",
        "    print(f\"Crack Time (Online, No Throttling): {crack_times['online_no_throttling_10_per_second']}\")\n",
        "    print(f\"Crack Time (Offline, Fast Hashing): {crack_times['offline_fast_hashing_1e10_per_second']}\")\n",
        "    if feedback['warning']:\n",
        "        print(f\"⚠️ Warning: {feedback['warning']}\")\n",
        "    if feedback['suggestions']:\n",
        "        print(f\"💡 Suggestions: {' '.join(feedback['suggestions'])}\")\n",
        "\n",
        "    rating = [\"Very Weak\", \"Weak\", \"Fair\", \"Strong\", \"Very Strong\"]\n",
        "    print(f\"🔑 Overall Rating: {rating[score]}\\n\")\n",
        "\n",
        "def hash_password(password: str):\n",
        "    salt = bcrypt.gensalt()\n",
        "    hashed = bcrypt.hashpw(password.encode(), salt)\n",
        "    return hashed\n",
        "\n",
        "pwd = input(\"Enter a password to test: \")\n",
        "analyze_password_strength(pwd)\n",
        "\n",
        "choice = input(\"Do you want to hash this password for secure storage? (y/n): \").lower()\n",
        "if choice == 'y':\n",
        "    hashed_pwd = hash_password(pwd)\n",
        "    print(f\"🔒 Hashed Password (bcrypt): {hashed_pwd.decode()}\")\n"
      ],
      "metadata": {
        "colab": {
          "base_uri": "https://localhost:8080/"
        },
        "id": "NUnnBNNHHquO",
        "outputId": "0bcb6bd2-e140-4832-9908-c947bfb60ba1"
      },
      "execution_count": null,
      "outputs": [
        {
          "output_type": "stream",
          "name": "stdout",
          "text": [
            "Enter a password to test: hellox0x02@33\n",
            "\n",
            "🔍 Password Analysis Report:\n",
            "Strength Score (0-4): 3\n",
            "Estimated Guesses Needed: 1105960000\n",
            "Crack Time (Online, No Throttling): 3 years\n",
            "Crack Time (Offline, Fast Hashing): less than a second\n",
            "🔑 Overall Rating: Strong\n",
            "\n",
            "Do you want to hash this password for secure storage? (y/n): y\n",
            "🔒 Hashed Password (bcrypt): $2b$12$80/43bOkCowTUvZAsIG2uuWODr8KDe2AU.RSZXuzaOMj1bHkiSCbS\n"
          ]
        }
      ]
    }
  ]
}